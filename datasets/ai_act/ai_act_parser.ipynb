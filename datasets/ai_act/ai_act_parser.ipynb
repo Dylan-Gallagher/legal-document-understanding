{
 "cells": [
  {
   "cell_type": "code",
   "execution_count": 28,
   "metadata": {},
   "outputs": [],
   "source": [
    "from bs4 import BeautifulSoup\n",
    "import re\n",
    "\n",
    "with open(\"ai_act.html\", \"r\") as file:\n",
    "    html_content = file.read()\n",
    "\n",
    "soup = BeautifulSoup(html_content, 'html.parser')\n",
    "\n",
    "ai_act = {}\n",
    "\n",
    "# Find all div elements with id matching the pattern xxx.xxx\n",
    "divs = soup.find_all('div', id=re.compile(r'^\\d{3}\\.\\d{3}$'))\n",
    "\n",
    "for div in divs:\n",
    "    article_num, point_num = div['id'].split('.')\n",
    "    point_num = int(point_num)\n",
    "    article_num = int(article_num)\n",
    "    \n",
    "    if f\"Article {article_num}\" not in ai_act.keys():\n",
    "        ai_act[f\"Article {article_num}\"] = {}\n",
    "\n",
    "    \n",
    "    # Check if the point has subpoints\n",
    "    subpoints = div.find_all('table')\n",
    "    \n",
    "    if subpoints:\n",
    "        main_text = div.find('p', class_='oj-normal').text.strip().split()[1:]\n",
    "        main_text = \" \".join(main_text)\n",
    "        point_content = {\n",
    "            \"subpoints\": {}\n",
    "        }\n",
    "        \n",
    "        for table in subpoints:\n",
    "            subpoint_letter = table.find('p', class_='oj-normal').text.strip()\n",
    "            subpoint_text = table.find_all('p', class_='oj-normal')[1].text.strip().split()[1:]\n",
    "            subpoint_text = \" \".join(subpoint_text)\n",
    "            point_content[\"subpoints\"][f\"Subpoint {subpoint_letter}\"] = main_text + subpoint_text\n",
    "        \n",
    "        ai_act[f\"Article {article_num}\"][f\"Point {point_num}\"] = point_content\n",
    "    else:\n",
    "        point_text = div.find('p', class_='oj-normal').text.strip().split()[1:]\n",
    "        point_text = \" \".join(point_text)\n",
    "        ai_act[f\"Article {article_num}\"][f\"Point {point_num}\"] = point_text\n",
    "\n",
    "import json\n",
    "with open('ai_act.json', 'w', encoding='utf-8') as f:\n",
    "    json.dump(ai_act, f, ensure_ascii=False, indent=2)"
   ]
  },
  {
   "cell_type": "code",
   "execution_count": 27,
   "metadata": {},
   "outputs": [
    {
     "name": "stdout",
     "output_type": "stream",
     "text": [
      "0\n",
      "3\n",
      "4\n",
      "16\n",
      "32\n",
      "39\n",
      "66\n",
      "85\n",
      "87\n",
      "94\n",
      "102\n",
      "103\n",
      "104\n",
      "105\n",
      "106\n",
      "107\n",
      "108\n",
      "109\n",
      "110\n"
     ]
    }
   ],
   "source": [
    "for i in range(113):\n",
    "    if f\"Article {i}\" not in ai_act.keys():\n",
    "        print(i)"
   ]
  },
  {
   "cell_type": "markdown",
   "metadata": {},
   "source": [
    "# TODO\n",
    "\n",
    "- Article 16 is formatted differently\n",
    "\n"
   ]
  }
 ],
 "metadata": {
  "kernelspec": {
   "display_name": "base",
   "language": "python",
   "name": "python3"
  },
  "language_info": {
   "codemirror_mode": {
    "name": "ipython",
    "version": 3
   },
   "file_extension": ".py",
   "mimetype": "text/x-python",
   "name": "python",
   "nbconvert_exporter": "python",
   "pygments_lexer": "ipython3",
   "version": "3.10.14"
  }
 },
 "nbformat": 4,
 "nbformat_minor": 2
}
